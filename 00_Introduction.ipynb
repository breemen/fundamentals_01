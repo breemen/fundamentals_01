{
 "cells": [
  {
   "cell_type": "markdown",
   "metadata": {},
   "source": [
    "<div align=\"center\">\n",
    "<a href=\"https://vbti.nl\"><img src=\"./images/vbti_logo.png\" width=\"400\"></a>\n",
    "</div>\n",
    "\n",
    "# Introduction\n",
    "Doing deep learning experiments requires a rich set of tools to a.o.\n",
    "\n",
    "- import data\n",
    "- analyse data\n",
    "- convert data\n",
    "- visualize data\n",
    "- store data\n",
    "- create models\n",
    "- train models\n",
    "- analyse training results\n",
    "- ...\n",
    "\n",
    "There exists a more or less standard tool set for data science that consists of Jupyter, Python, Numpy, Pandas and Matplotlib. Understanding these tools and having the skills to use them is needed to do more advanced deep learning experiments. Deep learning models often depend on other Python packages, such as Tensorflow, Keras and PyTorch that buiild upon the previous set of tools. \n",
    "\n",
    "In the notebooks below we will review the first set of tools. This is not a full course however, but rather a quick recap of most used functionalities. For a full course on these tools we recommend books such as:\n",
    "\n",
    "- [Python Data Science Handbook: Essential Tools for Working with Data by Kaje VanderPlas](https://www.amazon.com/Python-Data-Science-Handbook-Essential-dp-1491912057/dp/1491912057/ref=mt_other?_encoding=UTF8&me=&qid=)\n",
    "- [Python for Data Analysis: Data Wrangling with Pandas, NumPy, and IPython by Wes McKinney](https://www.amazon.com/Python-Data-Analysis-Wrangling-IPython-ebook-dp-B075X4LT6K/dp/B075X4LT6K/ref=mt_other?_encoding=UTF8&me=&qid=)\n",
    "\n",
    "\n",
    "## Overview\n",
    "\n",
    "### [Jupyter notebook](01_Jupyter.ipynb)\n",
    "Jupyter notebook is a development and programming environment that works from a browser. Over the last few years it quickly became one of the most used tools for data science.\n",
    "\n",
    "### [Python](02_Python.ipynb)\n",
    "This notebooks gives a short summary of the Python programming language. We assume you already have programming experience in some other language.\n",
    "\n",
    "### [Numpy](03_Numpy.ipynb)\n",
    "Numpy is well known library for numerical computations in Python.\n",
    "\n",
    "### [Pandas](04_Pandas.ipynb)\n",
    "Pandas is a well known library to work with data tables.\n",
    "\n",
    "### [Matplotlib](05_Matplotlib.ipynb)\n",
    "Matplotlib is the standard library for data visualization."
   ]
  },
  {
   "cell_type": "code",
   "execution_count": null,
   "metadata": {},
   "outputs": [],
   "source": []
  }
 ],
 "metadata": {
  "kernelspec": {
   "display_name": "Python 3",
   "language": "python",
   "name": "python3"
  },
  "language_info": {
   "codemirror_mode": {
    "name": "ipython",
    "version": 3
   },
   "file_extension": ".py",
   "mimetype": "text/x-python",
   "name": "python",
   "nbconvert_exporter": "python",
   "pygments_lexer": "ipython3",
   "version": "3.7.4"
  }
 },
 "nbformat": 4,
 "nbformat_minor": 4
}
