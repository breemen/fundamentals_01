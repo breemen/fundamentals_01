{
 "cells": [
  {
   "cell_type": "markdown",
   "metadata": {},
   "source": [
    "<div align=\"center\">\n",
    "<a href=\"https://vbti.nl\"><img src=\"./images/vbti_logo.png\" width=\"400\"></a>\n",
    "</div>\n",
    "\n",
    "# Introduction\n",
    "Deep learning experiments requires a rich set of tools to a.o.\n",
    "\n",
    "- import data\n",
    "- analyse data\n",
    "- convert data\n",
    "- visualize data\n",
    "- store data\n",
    "- create models\n",
    "- train models\n",
    "- analyse training results\n",
    "- ...\n",
    "\n",
    "A widely accepted toolset for data science consists of  Python, Jupyter, Numpy, Pandas, and Matplotlib. Understanding these tools is essential for advanced deep learning experiments. Deep learning models often depend on other Python packages, such as Tensorflow, Keras, and PyTorch, that build upon the previous tools. \n",
    "\n",
    "In the notebooks below, we will review the first set of tools. However, this is not a full course but rather a quick recap of the most used functionalities. For a comprehensive introduction to these tools, we recommend the following books:\n",
    "\n",
    "- [Python Data Science Handbook: Essential Tools for Working with Data by Kaje VanderPlas](https://www.amazon.com/Python-Data-Science-Handbook-Essential-dp-1491912057/dp/1491912057/ref=mt_other?_encoding=UTF8&me=&qid=)\n",
    "- [Python for Data Analysis: Data Wrangling with Pandas, NumPy, and IPython by Wes McKinney](https://www.amazon.com/Python-Data-Analysis-Wrangling-IPython-ebook-dp-B075X4LT6K/dp/B075X4LT6K/ref=mt_other?_encoding=UTF8&me=&qid=)\n",
    "- [Deep Learning with Python by François Chollet](https://www.amazon.com/Deep-Learning-Python-Francois-Chollet/dp/1617294438)\n",
    "\n",
    "\n",
    "## Overview\n",
    "\n",
    "### [Jupyter notebook](01_Jupyter.ipynb)\n",
    "Jupyter notebook provides a rich development environment that works from a browser. Over the last few years, it quickly became one of the most used tools for data science.\n",
    "\n",
    "### [Python](02_Python.ipynb)\n",
    "Python is a high-level programming language that is very popular in the deep learning community. This notebook gives a summary of the Python programming language. We assume you already have programming experience in some other language.\n",
    "\n",
    "### [Numpy](03_Numpy.ipynb)\n",
    "Numpy is a Python library that adds support for large, multi-dimensional arrays and matrices along with a broad collection of mathematical functions to operate on these arrays. This notebook gives a short introduction into Numpy, a well-known library for numerical computations.\n",
    "\n",
    "### [Pandas](04_Pandas.ipynb)\n",
    "Pandas builds on top of the Numpy library to provide a comprehensive toolset for data manipulation and analysis. \n",
    "\n",
    "### [Matplotlib](05_Matplotlib.ipynb)\n",
    "Matplotlib is the standard library for data visualization."
   ]
  }
 ],
 "metadata": {
  "kernelspec": {
   "display_name": "Python 3",
   "language": "python",
   "name": "python3"
  },
  "language_info": {
   "codemirror_mode": {
    "name": "ipython",
    "version": 3
   },
   "file_extension": ".py",
   "mimetype": "text/x-python",
   "name": "python",
   "nbconvert_exporter": "python",
   "pygments_lexer": "ipython3",
   "version": "3.6.9"
  }
 },
 "nbformat": 4,
 "nbformat_minor": 4
}
