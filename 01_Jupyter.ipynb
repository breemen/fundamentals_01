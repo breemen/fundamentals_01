{
 "cells": [
  {
   "cell_type": "markdown",
   "metadata": {},
   "source": [
    "<div align=\"center\">\n",
    "<a href=\"https://vbti.nl\"><img src=\"images/vbti_logo.png\" width=\"400\"></a>\n",
    "</div>\n",
    "\n",
    "# Jupyter Notebooks\n",
    "[Jupyter Notebook](https://jupyter.org) is a browser-based development environment for data science projects. It is supported by a broad community of data scientists and AI researchers. Mixing documentation and code into one notebook is the most significant feature of Jupyter that allows creating beautiful and interactive reports. Jupyter supports multiple programming languages, which is implemented via 'kernels.' In this masterclass, we use the [Python](https://www.python.org) programming language/kernel.\n",
    "\n",
    "# How does it work?\n",
    "A Jupyter notebook consists of 'cells.' A cell can be a 'markdown' cell for typing documentation, 'code' cell for writing code, or a 'raw' cell. Use the mouse or up/down arrow keys to select a cell. From the pulldown menu above, you can change the cell type. You can also change the cell type by selecting it and using shortcuts: 'y' - code, 'm' for markdown, and 'r' for raw.\n",
    "\n",
    "## Markdown cells\n",
    "To edit a markdown cell, double click on it or press 'Enter.' You will enter the 'edit' mode of the markdown cell. Special markdown characters can be used to format your text. A full overview of the formatting syntax can be found [here](https://help.github.com/articles/basic-writing-and-formatting-syntax/). Some of the most used markdowns are:"
   ]
  },
  {
   "cell_type": "markdown",
   "metadata": {},
   "source": [
    "# Header 1\n",
    "## Header 2\n",
    "### Header 3\n",
    "\n",
    "This is *italic* and this is **bold**.\n",
    "\n",
    "> create a quote\n",
    "\n",
    "To show code in the markdown cell, use the following syntax: `result = my_function(a)`\n",
    "\n",
    "For multiple lines use:\n",
    "\n",
    "```\n",
    "while True:\n",
    "    print(\"Hello World!)\n",
    "```\n",
    "To enable syntax highlighting add the name of the language like this:\n",
    "\n",
    "```python\n",
    "while True:\n",
    "    print(\"Hello World!)\n",
    "```\n",
    "\n",
    "Bullet lists are also easy to create:\n",
    "\n",
    "- use the dash character for a bullet\n",
    "- and continue with adding items\n",
    "- like this\n",
    "\n",
    "Finally, you can add a URL for [VBTI](https://vbti.nl). Alternatively, you can use HTML to add a link: <a href=\"https://vbti.nl\">VBTI</a>"
   ]
  },
  {
   "cell_type": "markdown",
   "metadata": {},
   "source": [
    "To run a markdown or a code cell, select the cell and press SHIFT+ENTER to execute and go to the next cell or CTRL+ENTER to leave the selection on the same cell.\n",
    "\n",
    "## Code cells\n",
    "In a code cell, you can write code in the language of the notebook's active kernel. In these masterclass notebooks, Python is used."
   ]
  },
  {
   "cell_type": "code",
   "execution_count": 1,
   "metadata": {},
   "outputs": [
    {
     "name": "stdout",
     "output_type": "stream",
     "text": [
      "Hello Masterclass Students!\n"
     ]
    }
   ],
   "source": [
    "# this is python code\n",
    "# select this cell and press SHIFT-ENTER to run the code\n",
    "print(\"Hello Masterclass Students!\")"
   ]
  },
  {
   "cell_type": "markdown",
   "metadata": {},
   "source": [
    "Variables and functions between code cells are shared. So, when you define a variable on one cel ..."
   ]
  },
  {
   "cell_type": "code",
   "execution_count": 2,
   "metadata": {},
   "outputs": [],
   "source": [
    "A = 1234"
   ]
  },
  {
   "cell_type": "markdown",
   "metadata": {},
   "source": [
    "... you can use the value in an other cell ..."
   ]
  },
  {
   "cell_type": "code",
   "execution_count": 3,
   "metadata": {},
   "outputs": [
    {
     "name": "stdout",
     "output_type": "stream",
     "text": [
      "1234\n"
     ]
    }
   ],
   "source": [
    "print(A)"
   ]
  },
  {
   "cell_type": "markdown",
   "metadata": {},
   "source": [
    "In practice, when you want to execute a notebook, you select the first cell of the notebook and continuously press SHIFT+ENTER until you have reached and executed the last cell. Alternatively, 'Cell' -> 'Run All' can be used to run the whole notebook.\n",
    "\n",
    "In case running the cell takes to much time and you have noticed a mistake, you can interrupt the execution by selecting 'Kernel' -> 'Interupt' or press 'I I'. \n",
    "\n",
    "From the toolbar above, you can choose to stop a notebook and restart it (clears all memory) by selecting 'Kernel' -> 'Reset' or pressing '0 0' (Zero Zero) on the keyboard."
   ]
  },
  {
   "cell_type": "code",
   "execution_count": null,
   "metadata": {},
   "outputs": [],
   "source": []
  }
 ],
 "metadata": {
  "kernelspec": {
   "display_name": "Python 3",
   "language": "python",
   "name": "python3"
  },
  "language_info": {
   "codemirror_mode": {
    "name": "ipython",
    "version": 3
   },
   "file_extension": ".py",
   "mimetype": "text/x-python",
   "name": "python",
   "nbconvert_exporter": "python",
   "pygments_lexer": "ipython3",
   "version": "3.6.9"
  }
 },
 "nbformat": 4,
 "nbformat_minor": 4
}
